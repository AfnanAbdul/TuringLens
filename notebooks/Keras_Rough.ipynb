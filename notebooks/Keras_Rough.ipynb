{
 "cells": [
  {
   "cell_type": "code",
   "execution_count": 1,
   "metadata": {},
   "outputs": [
    {
     "name": "stderr",
     "output_type": "stream",
     "text": [
      "c:\\Users\\Brennan Thompson\\miniconda3\\envs\\myenv\\Lib\\site-packages\\tqdm\\auto.py:21: TqdmWarning: IProgress not found. Please update jupyter and ipywidgets. See https://ipywidgets.readthedocs.io/en/stable/user_install.html\n",
      "  from .autonotebook import tqdm as notebook_tqdm\n"
     ]
    }
   ],
   "source": [
    "# Load packages\n",
    "import tensorflow as tf\n",
    "import keras_nlp\n",
    "import wandb\n",
    "import numpy as np\n",
    "import pandas as pd\n",
    "import os\n",
    "import kagglehub\n",
    "from sklearn.model_selection import train_test_split\n",
    "from tensorflow import keras\n"
   ]
  },
  {
   "cell_type": "code",
   "execution_count": 2,
   "metadata": {},
   "outputs": [
    {
     "name": "stderr",
     "output_type": "stream",
     "text": [
      "wandb: Using wandb-core as the SDK backend.  Please refer to https://wandb.me/wandb-core for more information.\n",
      "wandb: Currently logged in as: thompsonbrennan66 (thompsonbrennan66-united-states-air-force) to https://api.wandb.ai. Use `wandb login --relogin` to force relogin\n"
     ]
    },
    {
     "data": {
      "text/html": [
       "Tracking run with wandb version 0.19.9"
      ],
      "text/plain": [
       "<IPython.core.display.HTML object>"
      ]
     },
     "metadata": {},
     "output_type": "display_data"
    },
    {
     "data": {
      "text/html": [
       "Run data is saved locally in <code>c:\\Users\\Brennan Thompson\\Desktop\\LLM_Project\\TuringLens\\notebooks\\wandb\\run-20250403_221039-bide3c7q</code>"
      ],
      "text/plain": [
       "<IPython.core.display.HTML object>"
      ]
     },
     "metadata": {},
     "output_type": "display_data"
    },
    {
     "data": {
      "text/html": [
       "Syncing run <strong><a href='https://wandb.ai/thompsonbrennan66-united-states-air-force/llm_human_classifier/runs/bide3c7q' target=\"_blank\">soft-sponge-2</a></strong> to <a href='https://wandb.ai/thompsonbrennan66-united-states-air-force/llm_human_classifier' target=\"_blank\">Weights & Biases</a> (<a href='https://wandb.me/developer-guide' target=\"_blank\">docs</a>)<br>"
      ],
      "text/plain": [
       "<IPython.core.display.HTML object>"
      ]
     },
     "metadata": {},
     "output_type": "display_data"
    },
    {
     "data": {
      "text/html": [
       " View project at <a href='https://wandb.ai/thompsonbrennan66-united-states-air-force/llm_human_classifier' target=\"_blank\">https://wandb.ai/thompsonbrennan66-united-states-air-force/llm_human_classifier</a>"
      ],
      "text/plain": [
       "<IPython.core.display.HTML object>"
      ]
     },
     "metadata": {},
     "output_type": "display_data"
    },
    {
     "data": {
      "text/html": [
       " View run at <a href='https://wandb.ai/thompsonbrennan66-united-states-air-force/llm_human_classifier/runs/bide3c7q' target=\"_blank\">https://wandb.ai/thompsonbrennan66-united-states-air-force/llm_human_classifier/runs/bide3c7q</a>"
      ],
      "text/plain": [
       "<IPython.core.display.HTML object>"
      ]
     },
     "metadata": {},
     "output_type": "display_data"
    },
    {
     "name": "stdout",
     "output_type": "stream",
     "text": [
      "Dataset shape: (29145, 2)\n",
      "Column names: ['text', 'label']\n",
      "Label distribution: label\n",
      "0    17508\n",
      "1    11637\n",
      "Name: count, dtype: int64\n"
     ]
    }
   ],
   "source": [
    "# Initialize Weights & Biases\n",
    "wandb.init(project='llm_human_classifier')\n",
    "\n",
    "# Download and load dataset\n",
    "path = kagglehub.dataset_download(\"sunilthite/llm-detect-ai-generated-text-dataset\")\n",
    "df = pd.read_csv(os.path.join(path, \"Training_Essay_Data.csv\"))\n",
    "\n",
    "# Standardize label column name\n",
    "df = df.rename(columns={'generated': 'label'})\n",
    "\n",
    "print(f\"Dataset shape: {df.shape}\")\n",
    "print(f\"Column names: {df.columns.tolist()}\")\n",
    "print(f\"Label distribution: {df['label'].value_counts()}\")\n",
    "\n",
    "# Train/Val/Test split: 70/15/15 with stratification\n",
    "train_df, temp_df = train_test_split(df, test_size=0.3, random_state=42, stratify=df['label'])\n",
    "val_df, test_df = train_test_split(temp_df, test_size=0.5, random_state=42, stratify=temp_df['label'])\n",
    "\n",
    "# Extract input text and labels for each split\n",
    "X_train, y_train = train_df[\"text\"].tolist(), train_df[\"label\"].tolist()\n",
    "X_val, y_val = val_df[\"text\"].tolist(), val_df[\"label\"].tolist()\n",
    "X_test, y_test = test_df[\"text\"].tolist(), test_df[\"label\"].tolist()\n"
   ]
  },
  {
   "cell_type": "code",
   "execution_count": 3,
   "metadata": {},
   "outputs": [
    {
     "name": "stderr",
     "output_type": "stream",
     "text": [
      "c:\\Users\\Brennan Thompson\\miniconda3\\envs\\myenv\\Lib\\site-packages\\huggingface_hub\\file_download.py:144: UserWarning: `huggingface_hub` cache-system uses symlinks by default to efficiently store duplicated files but your machine does not support them in C:\\Users\\Brennan Thompson\\.cache\\huggingface\\hub\\models--microsoft--deberta-v3-base. Caching files will still work but in a degraded version that might require more space on your disk. This warning can be disabled by setting the `HF_HUB_DISABLE_SYMLINKS_WARNING` environment variable. For more details, see https://huggingface.co/docs/huggingface_hub/how-to-cache#limitations.\n",
      "To support symlinks on Windows, you either need to activate Developer Mode or to run Python as an administrator. In order to activate developer mode, see this article: https://docs.microsoft.com/en-us/windows/apps/get-started/enable-your-device-for-development\n",
      "  warnings.warn(message)\n"
     ]
    },
    {
     "ename": "ValueError",
     "evalue": "KerasHub has no converter for huggingface/transformers models with model type `'deberta-v2'`.",
     "output_type": "error",
     "traceback": [
      "\u001b[1;31m---------------------------------------------------------------------------\u001b[0m",
      "\u001b[1;31mValueError\u001b[0m                                Traceback (most recent call last)",
      "Cell \u001b[1;32mIn[3], line 3\u001b[0m\n\u001b[0;32m      1\u001b[0m \u001b[38;5;28;01mfrom\u001b[39;00m \u001b[38;5;21;01mkeras_nlp\u001b[39;00m\u001b[38;5;21;01m.\u001b[39;00m\u001b[38;5;21;01mmodels\u001b[39;00m \u001b[38;5;28;01mimport\u001b[39;00m DebertaV3Tokenizer\n\u001b[1;32m----> 3\u001b[0m preprocessor \u001b[38;5;241m=\u001b[39m \u001b[43mDebertaV3Tokenizer\u001b[49m\u001b[38;5;241;43m.\u001b[39;49m\u001b[43mfrom_preset\u001b[49m\u001b[43m(\u001b[49m\u001b[38;5;124;43m\"\u001b[39;49m\u001b[38;5;124;43mhf://microsoft/deberta-v3-base\u001b[39;49m\u001b[38;5;124;43m\"\u001b[39;49m\u001b[43m)\u001b[49m\n",
      "File \u001b[1;32mc:\\Users\\Brennan Thompson\\miniconda3\\envs\\myenv\\Lib\\site-packages\\keras_hub\\src\\tokenizers\\tokenizer.py:259\u001b[0m, in \u001b[0;36mTokenizer.from_preset\u001b[1;34m(cls, preset, config_file, **kwargs)\u001b[0m\n\u001b[0;32m    213\u001b[0m \u001b[38;5;129m@classmethod\u001b[39m\n\u001b[0;32m    214\u001b[0m \u001b[38;5;28;01mdef\u001b[39;00m \u001b[38;5;21mfrom_preset\u001b[39m(\n\u001b[0;32m    215\u001b[0m     \u001b[38;5;28mcls\u001b[39m,\n\u001b[1;32m   (...)\u001b[0m\n\u001b[0;32m    218\u001b[0m     \u001b[38;5;241m*\u001b[39m\u001b[38;5;241m*\u001b[39mkwargs,\n\u001b[0;32m    219\u001b[0m ):\n\u001b[0;32m    220\u001b[0m \u001b[38;5;250m    \u001b[39m\u001b[38;5;124;03m\"\"\"Instantiate a `keras_hub.models.Tokenizer` from a model preset.\u001b[39;00m\n\u001b[0;32m    221\u001b[0m \n\u001b[0;32m    222\u001b[0m \u001b[38;5;124;03m    A preset is a directory of configs, weights and other file assets used\u001b[39;00m\n\u001b[1;32m   (...)\u001b[0m\n\u001b[0;32m    257\u001b[0m \u001b[38;5;124;03m    ```\u001b[39;00m\n\u001b[0;32m    258\u001b[0m \u001b[38;5;124;03m    \"\"\"\u001b[39;00m\n\u001b[1;32m--> 259\u001b[0m     loader \u001b[38;5;241m=\u001b[39m \u001b[43mget_preset_loader\u001b[49m\u001b[43m(\u001b[49m\u001b[43mpreset\u001b[49m\u001b[43m)\u001b[49m\n\u001b[0;32m    260\u001b[0m     backbone_cls \u001b[38;5;241m=\u001b[39m loader\u001b[38;5;241m.\u001b[39mcheck_backbone_class()\n\u001b[0;32m    261\u001b[0m     \u001b[38;5;28;01mif\u001b[39;00m \u001b[38;5;28mcls\u001b[39m\u001b[38;5;241m.\u001b[39mbackbone_cls \u001b[38;5;241m!=\u001b[39m backbone_cls:\n",
      "File \u001b[1;32mc:\\Users\\Brennan Thompson\\miniconda3\\envs\\myenv\\Lib\\site-packages\\keras_hub\\src\\utils\\preset_utils.py:548\u001b[0m, in \u001b[0;36mget_preset_loader\u001b[1;34m(preset)\u001b[0m\n\u001b[0;32m    543\u001b[0m     \u001b[38;5;28;01mfrom\u001b[39;00m \u001b[38;5;21;01mkeras_hub\u001b[39;00m\u001b[38;5;21;01m.\u001b[39;00m\u001b[38;5;21;01msrc\u001b[39;00m\u001b[38;5;21;01m.\u001b[39;00m\u001b[38;5;21;01mutils\u001b[39;00m\u001b[38;5;21;01m.\u001b[39;00m\u001b[38;5;21;01mtransformers\u001b[39;00m\u001b[38;5;21;01m.\u001b[39;00m\u001b[38;5;21;01mpreset_loader\u001b[39;00m \u001b[38;5;28;01mimport\u001b[39;00m (\n\u001b[0;32m    544\u001b[0m         TransformersPresetLoader,\n\u001b[0;32m    545\u001b[0m     )\n\u001b[0;32m    547\u001b[0m     \u001b[38;5;66;03m# If we see model_type, we assume a Transformers style config.\u001b[39;00m\n\u001b[1;32m--> 548\u001b[0m     \u001b[38;5;28;01mreturn\u001b[39;00m \u001b[43mTransformersPresetLoader\u001b[49m\u001b[43m(\u001b[49m\u001b[43mpreset\u001b[49m\u001b[43m,\u001b[49m\u001b[43m \u001b[49m\u001b[43mconfig\u001b[49m\u001b[43m)\u001b[49m\n\u001b[0;32m    549\u001b[0m \u001b[38;5;28;01melif\u001b[39;00m \u001b[38;5;124m\"\u001b[39m\u001b[38;5;124marchitecture\u001b[39m\u001b[38;5;124m\"\u001b[39m \u001b[38;5;129;01min\u001b[39;00m config:\n\u001b[0;32m    550\u001b[0m     \u001b[38;5;66;03m# Avoid circular import.\u001b[39;00m\n\u001b[0;32m    551\u001b[0m     \u001b[38;5;28;01mfrom\u001b[39;00m \u001b[38;5;21;01mkeras_hub\u001b[39;00m\u001b[38;5;21;01m.\u001b[39;00m\u001b[38;5;21;01msrc\u001b[39;00m\u001b[38;5;21;01m.\u001b[39;00m\u001b[38;5;21;01mutils\u001b[39;00m\u001b[38;5;21;01m.\u001b[39;00m\u001b[38;5;21;01mtimm\u001b[39;00m\u001b[38;5;21;01m.\u001b[39;00m\u001b[38;5;21;01mpreset_loader\u001b[39;00m \u001b[38;5;28;01mimport\u001b[39;00m TimmPresetLoader\n",
      "File \u001b[1;32mc:\\Users\\Brennan Thompson\\miniconda3\\envs\\myenv\\Lib\\site-packages\\keras_hub\\src\\utils\\transformers\\preset_loader.py:48\u001b[0m, in \u001b[0;36mTransformersPresetLoader.__init__\u001b[1;34m(self, preset, config)\u001b[0m\n\u001b[0;32m     46\u001b[0m     \u001b[38;5;28mself\u001b[39m\u001b[38;5;241m.\u001b[39mconverter \u001b[38;5;241m=\u001b[39m convert_qwen\n\u001b[0;32m     47\u001b[0m \u001b[38;5;28;01melse\u001b[39;00m:\n\u001b[1;32m---> 48\u001b[0m     \u001b[38;5;28;01mraise\u001b[39;00m \u001b[38;5;167;01mValueError\u001b[39;00m(\n\u001b[0;32m     49\u001b[0m         \u001b[38;5;124m\"\u001b[39m\u001b[38;5;124mKerasHub has no converter for huggingface/transformers models \u001b[39m\u001b[38;5;124m\"\u001b[39m\n\u001b[0;32m     50\u001b[0m         \u001b[38;5;124mf\u001b[39m\u001b[38;5;124m\"\u001b[39m\u001b[38;5;124mwith model type `\u001b[39m\u001b[38;5;124m'\u001b[39m\u001b[38;5;132;01m{\u001b[39;00mmodel_type\u001b[38;5;132;01m}\u001b[39;00m\u001b[38;5;124m'\u001b[39m\u001b[38;5;124m`.\u001b[39m\u001b[38;5;124m\"\u001b[39m\n\u001b[0;32m     51\u001b[0m     )\n",
      "\u001b[1;31mValueError\u001b[0m: KerasHub has no converter for huggingface/transformers models with model type `'deberta-v2'`."
     ]
    }
   ],
   "source": [
    "from keras_nlp.models import DebertaV3Tokenizer\n",
    "\n",
    "preprocessor = DebertaV3Tokenizer.from_preset(\"hf://microsoft/deberta-v3-base\")\n"
   ]
  },
  {
   "cell_type": "code",
   "execution_count": null,
   "metadata": {},
   "outputs": [],
   "source": [
    "# Tokenizer and Model Configuration\n",
    "preprocessor = keras_nlp.models.DebertaV3Tokenizer.from_preset(\"deberta_v3_base\")\n",
    "max_length = 512\n",
    "\n",
    "train_encodings = preprocessor(train_texts.to_list(), max_length=max_length)\n",
    "test_encodings = preprocessor(test_texts.to_list(), max_length=max_length)\n",
    "\n",
    "train_labels = np.array(train_labels)\n",
    "test_labels = np.array(test_labels)\n"
   ]
  },
  {
   "cell_type": "code",
   "execution_count": null,
   "metadata": {},
   "outputs": [],
   "source": [
    "# Model Architecture\n",
    "inputs = keras.Input(shape=(), dtype=tf.string)\n",
    "encoded_inputs = preprocessor(inputs)\n",
    "backbone = keras_nlp.models.DebertaV3Backbone.from_preset(\"deberta_v3_base\")\n",
    "\n",
    "x = backbone(encoded_inputs)[\"pooled_output\"]\n",
    "x = keras.layers.Dropout(0.2)(x)\n",
    "x = keras.layers.Dense(1, activation='sigmoid')(x)\n",
    "\n",
    "model = keras.Model(inputs, x)\n"
   ]
  },
  {
   "cell_type": "code",
   "execution_count": null,
   "metadata": {},
   "outputs": [],
   "source": [
    "# Compile Model\n",
    "model.compile(\n",
    "    optimizer=keras.optimizers.Adam(learning_rate=2e-5),\n",
    "    loss=\"binary_crossentropy\",\n",
    "    metrics=[\"accuracy\"]\n",
    ")\n"
   ]
  },
  {
   "cell_type": "code",
   "execution_count": null,
   "metadata": {},
   "outputs": [],
   "source": [
    "# Callbacks\n",
    "callbacks = [\n",
    "    keras.callbacks.ModelCheckpoint(\"best_model.keras\", save_best_only=True),\n",
    "    keras.callbacks.EarlyStopping(monitor='val_loss', patience=3, restore_best_weights=True)\n",
    "]\n"
   ]
  },
  {
   "cell_type": "code",
   "execution_count": null,
   "metadata": {},
   "outputs": [],
   "source": [
    "# Training\n",
    "history = model.fit(\n",
    "    train_texts, train_labels,\n",
    "    validation_data=(test_texts, test_labels),\n",
    "    epochs=5,\n",
    "    batch_size=16,\n",
    "    callbacks=callbacks\n",
    ")\n"
   ]
  },
  {
   "cell_type": "code",
   "execution_count": null,
   "metadata": {},
   "outputs": [],
   "source": [
    "# Logging to Weights & Biases\n",
    "wandb.log({\"final_accuracy\": history.history[\"val_accuracy\"][-1]})\n",
    "\n",
    "# Save Model\n",
    "model.save(\"deberta_llm_classifier.keras\")\n"
   ]
  }
 ],
 "metadata": {
  "kernelspec": {
   "display_name": "myenv",
   "language": "python",
   "name": "python3"
  },
  "language_info": {
   "codemirror_mode": {
    "name": "ipython",
    "version": 3
   },
   "file_extension": ".py",
   "mimetype": "text/x-python",
   "name": "python",
   "nbconvert_exporter": "python",
   "pygments_lexer": "ipython3",
   "version": "3.12.3"
  }
 },
 "nbformat": 4,
 "nbformat_minor": 2
}
